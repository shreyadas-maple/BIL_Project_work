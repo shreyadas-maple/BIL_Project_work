{
 "cells": [
  {
   "cell_type": "code",
   "execution_count": 220,
   "metadata": {},
   "outputs": [],
   "source": [
    "# For Random Tree Regression Model\n",
    "#! pip install scikit-learn"
   ]
  },
  {
   "cell_type": "code",
   "execution_count": 221,
   "metadata": {},
   "outputs": [],
   "source": [
    "import pandas as pd\n",
    "from sklearn.model_selection import train_test_split\n",
    "import xgboost as xgb\n",
    "from sklearn.metrics import accuracy_score, classification_report\n",
    "import matplotlib as plt\n",
    "\n",
    "def build_xgb_model(data, title):\n",
    "    # Get the X and Y variables from the given dataset\n",
    "    # X is the features used to predict Y\n",
    "    X = data.drop(labels = [\"DX_encoded\"], axis = 1)\n",
    "    Y = data[\"DX_encoded\"]\n",
    "\n",
    "    eval_metric = [\"auc\",\"error\"]\n",
    "\n",
    "    print(\"XGB Model for \", title)\n",
    "\n",
    "    # Split the X and Y data into training and testing data \n",
    "    X_train, X_test, y_train, y_test = train_test_split(X, Y, test_size=0.15, random_state=42)\n",
    "    print(\"Shape of training data is: \", X_train.shape)\n",
    "    print(\"Shape of testing data is: \", X_test.shape)\n",
    "\n",
    "    # Create the XGBoost Model for multi-class classification\n",
    "    xgb_model = xgb.XGBClassifier(objective='multi:softmax', num_class=len(set(Y)), use_label_encoder=False, eval_metric='mlogloss')\n",
    "\n",
    "    # Fit the model to the X and Y data\n",
    "    xgb_model.fit(X_train, y_train, verbose = True)\n",
    "\n",
    "    # Calculation predictions based on trained model\n",
    "    predictions = xgb_model.predict(X_test)\n",
    "\n",
    "    # Give an accuracy score \n",
    "    accuracy = accuracy_score(y_test, predictions)\n",
    "    print(f\"Accuracy: {accuracy:.2f}\")\n",
    "    print(classification_report(y_test, predictions))"
   ]
  },
  {
   "cell_type": "code",
   "execution_count": 222,
   "metadata": {},
   "outputs": [],
   "source": [
    "import pandas as pd\n",
    "import seaborn as sns\n",
    "from sklearn.model_selection import train_test_split\n",
    "from sklearn.ensemble import RandomForestRegressor\n",
    "\n",
    "def build_randTree_model(data, title):\n",
    "    # Get the X and Y variables from the given dataset\n",
    "    # X is the features used to predict Y\n",
    "    X = data.drop(labels = [\"DX_encoded\"], axis = 1)\n",
    "    Y = data[\"DX_encoded\"]\n",
    "\n",
    "    print(\"RandomTree Model for \", title)\n",
    "\n",
    "    # Split the X and Y data into training and testing data \n",
    "    X_train, X_test, y_train, y_test = train_test_split(X, Y, test_size=0.2, random_state=42)\n",
    "    print(\"Shape of training data is: \", X_train.shape)\n",
    "    print(\"Shape of testing data is: \", X_test.shape)\n",
    "\n",
    "    num_cols = X_train._get_numeric_data().columns\n",
    "    print(\"Number of numeric features:\",num_cols.size)\n",
    "\n",
    "    # Create the XGBoost Model for multi-class classification\n",
    "    randTreemodel = RandomForestRegressor(n_estimators=100)\n",
    "\n",
    "    # Fit the model to the X and Y data\n",
    "    randTreemodel.fit(X_train, y_train)\n",
    "\n",
    "    # Give an accuracy score \n",
    "    r2 = randTreemodel.score(X_test, y_test)\n",
    "    print(r2)"
   ]
  },
  {
   "cell_type": "code",
   "execution_count": 223,
   "metadata": {},
   "outputs": [
    {
     "name": "stdout",
     "output_type": "stream",
     "text": [
      "XGB Model for  AB ALPS + demo\n",
      "Shape of training data is:  (235, 16)\n",
      "Shape of testing data is:  (42, 16)\n"
     ]
    },
    {
     "name": "stderr",
     "output_type": "stream",
     "text": [
      "/Library/Frameworks/Python.framework/Versions/3.12/lib/python3.12/site-packages/xgboost/training.py:183: UserWarning: [08:56:34] WARNING: /Users/runner/work/xgboost/xgboost/src/learner.cc:738: \n",
      "Parameters: { \"use_label_encoder\" } are not used.\n",
      "\n",
      "  bst.update(dtrain, iteration=i, fobj=obj)\n"
     ]
    },
    {
     "name": "stdout",
     "output_type": "stream",
     "text": [
      "Accuracy: 0.74\n",
      "              precision    recall  f1-score   support\n",
      "\n",
      "           0       0.82      0.86      0.84        21\n",
      "           1       0.40      0.50      0.44         4\n",
      "           2       0.73      0.65      0.69        17\n",
      "\n",
      "    accuracy                           0.74        42\n",
      "   macro avg       0.65      0.67      0.66        42\n",
      "weighted avg       0.74      0.74      0.74        42\n",
      "\n"
     ]
    }
   ],
   "source": [
    "data_AB_ALPS_demo = pd.read_csv(\"/Users/dasmaster/BIL Lab Projects/project1/AB/data_AB_ALPS_demo_preprocessed.csv\")\n",
    "\n",
    "build_xgb_model(data_AB_ALPS_demo, \"AB ALPS + demo\")"
   ]
  },
  {
   "cell_type": "code",
   "execution_count": 224,
   "metadata": {},
   "outputs": [
    {
     "name": "stdout",
     "output_type": "stream",
     "text": [
      "RandomTree Model for  AB ALPS + demo\n",
      "Shape of training data is:  (221, 16)\n",
      "Shape of testing data is:  (56, 16)\n",
      "Number of numeric features: 16\n",
      "0.3435582260371959\n"
     ]
    }
   ],
   "source": [
    "build_randTree_model(data_AB_ALPS_demo, \"AB ALPS + demo\")"
   ]
  },
  {
   "cell_type": "code",
   "execution_count": 225,
   "metadata": {},
   "outputs": [
    {
     "name": "stdout",
     "output_type": "stream",
     "text": [
      "XGB Model for  AB EPVS + ALPS + demo\n",
      "Shape of training data is:  (235, 51)\n",
      "Shape of testing data is:  (42, 51)\n"
     ]
    },
    {
     "name": "stderr",
     "output_type": "stream",
     "text": [
      "/Library/Frameworks/Python.framework/Versions/3.12/lib/python3.12/site-packages/xgboost/training.py:183: UserWarning: [08:56:35] WARNING: /Users/runner/work/xgboost/xgboost/src/learner.cc:738: \n",
      "Parameters: { \"use_label_encoder\" } are not used.\n",
      "\n",
      "  bst.update(dtrain, iteration=i, fobj=obj)\n"
     ]
    },
    {
     "name": "stdout",
     "output_type": "stream",
     "text": [
      "Accuracy: 0.79\n",
      "              precision    recall  f1-score   support\n",
      "\n",
      "           0       0.81      1.00      0.89        21\n",
      "           1       0.50      0.50      0.50         4\n",
      "           2       0.83      0.59      0.69        17\n",
      "\n",
      "    accuracy                           0.79        42\n",
      "   macro avg       0.71      0.70      0.69        42\n",
      "weighted avg       0.79      0.79      0.77        42\n",
      "\n"
     ]
    }
   ],
   "source": [
    "data_AB_EPVS_ALPS_demo = pd.read_csv(\"/Users/dasmaster/BIL Lab Projects/project1/AB/data_AB_EPVS_ALPS_demo_preprocessed.csv\")\n",
    "\n",
    "build_xgb_model(data_AB_EPVS_ALPS_demo, \"AB EPVS + ALPS + demo\")"
   ]
  },
  {
   "cell_type": "code",
   "execution_count": 226,
   "metadata": {},
   "outputs": [
    {
     "name": "stdout",
     "output_type": "stream",
     "text": [
      "RandomTree Model for  AB EPVS + ALPS + demo\n",
      "Shape of training data is:  (221, 51)\n",
      "Shape of testing data is:  (56, 51)\n",
      "Number of numeric features: 51\n",
      "0.3045625178826896\n"
     ]
    }
   ],
   "source": [
    "build_randTree_model(data_AB_EPVS_ALPS_demo, \"AB EPVS + ALPS + demo\")"
   ]
  },
  {
   "cell_type": "code",
   "execution_count": 227,
   "metadata": {},
   "outputs": [
    {
     "name": "stdout",
     "output_type": "stream",
     "text": [
      "XGB Model for  AB EPVS + demo\n",
      "Shape of training data is:  (634, 41)\n",
      "Shape of testing data is:  (113, 41)\n"
     ]
    },
    {
     "name": "stderr",
     "output_type": "stream",
     "text": [
      "/Library/Frameworks/Python.framework/Versions/3.12/lib/python3.12/site-packages/xgboost/training.py:183: UserWarning: [08:56:35] WARNING: /Users/runner/work/xgboost/xgboost/src/learner.cc:738: \n",
      "Parameters: { \"use_label_encoder\" } are not used.\n",
      "\n",
      "  bst.update(dtrain, iteration=i, fobj=obj)\n"
     ]
    },
    {
     "name": "stdout",
     "output_type": "stream",
     "text": [
      "Accuracy: 0.69\n",
      "              precision    recall  f1-score   support\n",
      "\n",
      "           0       0.68      0.62      0.65        37\n",
      "           1       0.73      0.80      0.76        20\n",
      "           2       0.68      0.70      0.69        56\n",
      "\n",
      "    accuracy                           0.69       113\n",
      "   macro avg       0.70      0.71      0.70       113\n",
      "weighted avg       0.69      0.69      0.69       113\n",
      "\n"
     ]
    }
   ],
   "source": [
    "data_AB_EPVS_demo = pd.read_csv(\"/Users/dasmaster/BIL Lab Projects/project1/AB/data_AB_EPVS_demo_preprocessed.csv\")\n",
    "\n",
    "build_xgb_model(data_AB_EPVS_demo, \"AB EPVS + demo\")"
   ]
  },
  {
   "cell_type": "code",
   "execution_count": 228,
   "metadata": {},
   "outputs": [
    {
     "name": "stdout",
     "output_type": "stream",
     "text": [
      "RandomTree Model for  AB EPVS + ALPS + demo\n",
      "Shape of training data is:  (597, 41)\n",
      "Shape of testing data is:  (150, 41)\n",
      "Number of numeric features: 41\n",
      "0.2633732236350037\n"
     ]
    }
   ],
   "source": [
    "build_randTree_model(data_AB_EPVS_demo, \"AB EPVS + ALPS + demo\")"
   ]
  },
  {
   "cell_type": "markdown",
   "metadata": {},
   "source": [
    "## Tau Models"
   ]
  },
  {
   "cell_type": "code",
   "execution_count": 229,
   "metadata": {},
   "outputs": [
    {
     "name": "stdout",
     "output_type": "stream",
     "text": [
      "XGB Model for  Tau EPVS + demo\n",
      "Shape of training data is:  (215, 39)\n",
      "Shape of testing data is:  (39, 39)\n"
     ]
    },
    {
     "name": "stderr",
     "output_type": "stream",
     "text": [
      "/Library/Frameworks/Python.framework/Versions/3.12/lib/python3.12/site-packages/xgboost/training.py:183: UserWarning: [08:56:36] WARNING: /Users/runner/work/xgboost/xgboost/src/learner.cc:738: \n",
      "Parameters: { \"use_label_encoder\" } are not used.\n",
      "\n",
      "  bst.update(dtrain, iteration=i, fobj=obj)\n"
     ]
    },
    {
     "name": "stdout",
     "output_type": "stream",
     "text": [
      "Accuracy: 0.69\n",
      "              precision    recall  f1-score   support\n",
      "\n",
      "           0       0.81      0.68      0.74        25\n",
      "           2       0.56      0.71      0.62        14\n",
      "\n",
      "    accuracy                           0.69        39\n",
      "   macro avg       0.68      0.70      0.68        39\n",
      "weighted avg       0.72      0.69      0.70        39\n",
      "\n"
     ]
    }
   ],
   "source": [
    "data_Tau_EPVS_demo = pd.read_csv(\"/Users/dasmaster/BIL Lab Projects/project1/Tau/data_Tau_EPVS_demo_preprocessed.csv\")\n",
    "\n",
    "build_xgb_model(data_Tau_EPVS_demo, \"Tau EPVS + demo\")"
   ]
  },
  {
   "cell_type": "code",
   "execution_count": 230,
   "metadata": {},
   "outputs": [
    {
     "name": "stdout",
     "output_type": "stream",
     "text": [
      "XGB Model for  Tau ALPS + demo\n",
      "Shape of training data is:  (186, 9)\n",
      "Shape of testing data is:  (33, 9)\n"
     ]
    },
    {
     "name": "stderr",
     "output_type": "stream",
     "text": [
      "/Library/Frameworks/Python.framework/Versions/3.12/lib/python3.12/site-packages/xgboost/training.py:183: UserWarning: [08:56:37] WARNING: /Users/runner/work/xgboost/xgboost/src/learner.cc:738: \n",
      "Parameters: { \"use_label_encoder\" } are not used.\n",
      "\n",
      "  bst.update(dtrain, iteration=i, fobj=obj)\n"
     ]
    },
    {
     "name": "stdout",
     "output_type": "stream",
     "text": [
      "Accuracy: 0.55\n",
      "              precision    recall  f1-score   support\n",
      "\n",
      "           0       0.67      0.64      0.65        22\n",
      "           1       0.00      0.00      0.00         2\n",
      "           2       0.33      0.44      0.38         9\n",
      "\n",
      "    accuracy                           0.55        33\n",
      "   macro avg       0.33      0.36      0.34        33\n",
      "weighted avg       0.54      0.55      0.54        33\n",
      "\n"
     ]
    },
    {
     "name": "stderr",
     "output_type": "stream",
     "text": [
      "/Library/Frameworks/Python.framework/Versions/3.12/lib/python3.12/site-packages/sklearn/metrics/_classification.py:1565: UndefinedMetricWarning: Precision is ill-defined and being set to 0.0 in labels with no predicted samples. Use `zero_division` parameter to control this behavior.\n",
      "  _warn_prf(average, modifier, f\"{metric.capitalize()} is\", len(result))\n",
      "/Library/Frameworks/Python.framework/Versions/3.12/lib/python3.12/site-packages/sklearn/metrics/_classification.py:1565: UndefinedMetricWarning: Precision is ill-defined and being set to 0.0 in labels with no predicted samples. Use `zero_division` parameter to control this behavior.\n",
      "  _warn_prf(average, modifier, f\"{metric.capitalize()} is\", len(result))\n",
      "/Library/Frameworks/Python.framework/Versions/3.12/lib/python3.12/site-packages/sklearn/metrics/_classification.py:1565: UndefinedMetricWarning: Precision is ill-defined and being set to 0.0 in labels with no predicted samples. Use `zero_division` parameter to control this behavior.\n",
      "  _warn_prf(average, modifier, f\"{metric.capitalize()} is\", len(result))\n"
     ]
    }
   ],
   "source": [
    "data_Tau_ALPS_demo = pd.read_csv(\"/Users/dasmaster/BIL Lab Projects/project1/Tau/data_Tau_ALPS_demo_preprocessed.csv\")\n",
    "\n",
    "build_xgb_model(data_Tau_ALPS_demo, \"Tau ALPS + demo\")"
   ]
  },
  {
   "cell_type": "code",
   "execution_count": 231,
   "metadata": {},
   "outputs": [
    {
     "name": "stdout",
     "output_type": "stream",
     "text": [
      "XGB Model for  Tau EPVS + ALPS + demo\n",
      "Shape of training data is:  (186, 44)\n",
      "Shape of testing data is:  (33, 44)\n"
     ]
    },
    {
     "name": "stderr",
     "output_type": "stream",
     "text": [
      "/Library/Frameworks/Python.framework/Versions/3.12/lib/python3.12/site-packages/xgboost/training.py:183: UserWarning: [08:57:37] WARNING: /Users/runner/work/xgboost/xgboost/src/learner.cc:738: \n",
      "Parameters: { \"use_label_encoder\" } are not used.\n",
      "\n",
      "  bst.update(dtrain, iteration=i, fobj=obj)\n"
     ]
    },
    {
     "name": "stdout",
     "output_type": "stream",
     "text": [
      "Accuracy: 0.67\n",
      "              precision    recall  f1-score   support\n",
      "\n",
      "           0       0.77      0.77      0.77        22\n",
      "           1       0.67      1.00      0.80         2\n",
      "           2       0.38      0.33      0.35         9\n",
      "\n",
      "    accuracy                           0.67        33\n",
      "   macro avg       0.60      0.70      0.64        33\n",
      "weighted avg       0.66      0.67      0.66        33\n",
      "\n"
     ]
    }
   ],
   "source": [
    "data_Tau_EPVS_ALPS_demo = pd.read_csv(\"/Users/dasmaster/BIL Lab Projects/project1/Tau/data_Tau_EPVS_ALPS_demo_preprocessed.csv\")\n",
    "\n",
    "build_xgb_model(data_Tau_EPVS_ALPS_demo, \"Tau EPVS + ALPS + demo\")"
   ]
  }
 ],
 "metadata": {
  "kernelspec": {
   "display_name": "Python 3",
   "language": "python",
   "name": "python3"
  },
  "language_info": {
   "codemirror_mode": {
    "name": "ipython",
    "version": 3
   },
   "file_extension": ".py",
   "mimetype": "text/x-python",
   "name": "python",
   "nbconvert_exporter": "python",
   "pygments_lexer": "ipython3",
   "version": "3.12.1"
  }
 },
 "nbformat": 4,
 "nbformat_minor": 2
}
